{
  "nbformat": 4,
  "nbformat_minor": 0,
  "metadata": {
    "colab": {
      "name": "ShaCL",
      "provenance": [],
      "collapsed_sections": []
    },
    "kernelspec": {
      "name": "python3",
      "display_name": "Python 3"
    }
  },
  "cells": [
    {
      "cell_type": "markdown",
      "metadata": {
        "id": "pIOrhHVm9_t5"
      },
      "source": [
        "# Validasi Vocabulary Untuk Dataset\n",
        "## Kontributor: Rochim Farul Noviyan, Reyhan Venyutzky, Hasna Zakiyyah Harsari, Nur Aini Rakhmawati\n",
        "## email kontributor: rochim.noviyan@gmail.com ,hasnazakiyyah16@gmail.com, venyutzky08@gmail.com\n",
        "## Departemen Sistem Informasi, Institut Teknologi Sepuluh Nopember\n",
        "Abstrak:\n",
        "\n",
        "*SHACL (SHAPES Constraint Language) adalah bahasa standar yang dibuat oleh W3C untuk pemodelan data, desain ontologi, validasi data, penarikan kesimpulan, dan transformasi data. SHACL didasarkan pada RDF dan SPARQL dimana dapat memvalidasi grafik RDF terhadap serangkaian kondisi. Grafik RDF dalam SHACL disebut \"shapes graph\" dan grafik RDF yang divalidasi terhadap shapes graph disebut \"data graph\". Pada kesempatan kali ini kami akan membuat model data SHACL berupa shapes graph dan data graph dengan mereferensi pada grafik RDF yang telah dibuat sebelumnya. Pada graph data kami membuat dua data valid dan invalid dengan 2 kesalahan sehingga dapat menunjukkan apabila validasinya telah berjalan dengan sesuai.*\n",
        "\n"
      ]
    },
    {
      "cell_type": "markdown",
      "metadata": {
        "id": "jP3LhyBD_8J_"
      },
      "source": [
        "## Vocabulary\n",
        "\n",
        "Vocabulary ini terdiri atas 4 class dan 6 properti. Vocabulary ini dapat diakses pada [3] dan dataset dapat diakses di [2]\n"
      ]
    },
    {
      "cell_type": "code",
      "metadata": {
        "colab": {
          "base_uri": "https://localhost:8080/",
          "height": 52
        },
        "id": "GOFD2AJIX4Np",
        "outputId": "4ccd8ee9-e2ba-4965-ce00-641871dbbe6a"
      },
      "source": [
        "!python -m pip install --no-input jupyter-rdfify --quiet\n",
        "%reload_ext jupyter-rdfify"
      ],
      "execution_count": 49,
      "outputs": [
        {
          "output_type": "stream",
          "name": "stdout",
          "text": [
            "\u001b[31mERROR: pip's dependency resolver does not currently take into account all the packages that are installed. This behaviour is the source of the following dependency conflicts.\n",
            "pyshacl 0.17.0.post2 requires rdflib<7,>=6.0.0, but you have rdflib 5.0.0 which is incompatible.\u001b[0m\n"
          ]
        },
        {
          "output_type": "display_data",
          "data": {
            "application/javascript": [
              "\n",
              "    if (typeof IPython !== \"undefined\") {\n",
              "        IPython.CodeCell.options_default.highlight_modes['application/sparql-query'] = {'reg':[/^%%rdf sparql/]};\n",
              "        IPython.CodeCell.options_default.highlight_modes['text/turtle'] = {'reg':[/^%%rdf turtle/, /^%%rdf shex/]};\n",
              "        IPython.CodeCell.options_default.highlight_modes['application/ld+json'] = {'reg':[/^%%rdf json-ld/]};\n",
              "        IPython.notebook.get_cells().map(function(cell){ if (cell.cell_type == 'code'){ cell.auto_highlight(); } });\n",
              "    }\n",
              "    "
            ]
          },
          "metadata": {}
        }
      ]
    },
    {
      "cell_type": "code",
      "metadata": {
        "colab": {
          "base_uri": "https://localhost:8080/",
          "height": 206
        },
        "id": "j7hbjp3pYWTc",
        "outputId": "2ae99184-3353-4a07-ca41-4c85868685d1"
      },
      "source": [
        "import pandas as pd\n",
        "\n",
        "df = pd.read_csv('https://gist.githubusercontent.com/rochimfn/d43d8f372126dfbade9b41c1e8490e7c/raw/ed69463ca6312daf020d4709ae3cc33ae2059dea/dataset.csv')\n",
        "df.head()"
      ],
      "execution_count": 50,
      "outputs": [
        {
          "output_type": "execute_result",
          "data": {
            "text/html": [
              "<div>\n",
              "<style scoped>\n",
              "    .dataframe tbody tr th:only-of-type {\n",
              "        vertical-align: middle;\n",
              "    }\n",
              "\n",
              "    .dataframe tbody tr th {\n",
              "        vertical-align: top;\n",
              "    }\n",
              "\n",
              "    .dataframe thead th {\n",
              "        text-align: right;\n",
              "    }\n",
              "</style>\n",
              "<table border=\"1\" class=\"dataframe\">\n",
              "  <thead>\n",
              "    <tr style=\"text-align: right;\">\n",
              "      <th></th>\n",
              "      <th>Seller_name</th>\n",
              "      <th>Seller_Location</th>\n",
              "      <th>Seller_Product</th>\n",
              "      <th>Seller_Product_url</th>\n",
              "      <th>Seller_price</th>\n",
              "      <th>Seller_product_wishlist</th>\n",
              "    </tr>\n",
              "  </thead>\n",
              "  <tbody>\n",
              "    <tr>\n",
              "      <th>0</th>\n",
              "      <td>GudangGrosir</td>\n",
              "      <td>DKI Jakarta</td>\n",
              "      <td>TaffSTUDIO Splitter Audio Shape U 3.5mm ke Hea...</td>\n",
              "      <td>https://www.jakmall.com/gudanggrosir/taffstudi...</td>\n",
              "      <td>Rp 6.800</td>\n",
              "      <td>839</td>\n",
              "    </tr>\n",
              "    <tr>\n",
              "      <th>1</th>\n",
              "      <td>SoundSquare</td>\n",
              "      <td>DKI Jakarta</td>\n",
              "      <td>TaffSTUDIO Mikrofon Kondenser Studio dengan Sh...</td>\n",
              "      <td>https://www.jakmall.com/soundsquare/taffstudio...</td>\n",
              "      <td>Rp 83.200</td>\n",
              "      <td>1471</td>\n",
              "    </tr>\n",
              "    <tr>\n",
              "      <th>2</th>\n",
              "      <td>Kelvin Online Shop</td>\n",
              "      <td>DKI Jakarta</td>\n",
              "      <td>Taffware Gaming Mouse Pad XL Desk Mat Motif Pe...</td>\n",
              "      <td>https://www.jakmall.com/kelvin-online-shop/taf...</td>\n",
              "      <td>Rp 22.500</td>\n",
              "      <td>2132</td>\n",
              "    </tr>\n",
              "    <tr>\n",
              "      <th>3</th>\n",
              "      <td>Fast n Cheap</td>\n",
              "      <td>DKI Jakarta</td>\n",
              "      <td>Taffware ICE FAN 3 Universal Laptop Vacuum Cooler</td>\n",
              "      <td>https://www.jakmall.com/fast-n-cheap/taffware-...</td>\n",
              "      <td>Rp 54.600</td>\n",
              "      <td>654</td>\n",
              "    </tr>\n",
              "    <tr>\n",
              "      <th>4</th>\n",
              "      <td>Fast n Cheap</td>\n",
              "      <td>DKI Jakarta</td>\n",
              "      <td>Splitter Audio Cable 3.5mm Male to 3.5mm HiFi ...</td>\n",
              "      <td>https://www.jakmall.com/fast-n-cheap/splitter-...</td>\n",
              "      <td>Rp 5.400</td>\n",
              "      <td>331</td>\n",
              "    </tr>\n",
              "  </tbody>\n",
              "</table>\n",
              "</div>"
            ],
            "text/plain": [
              "          Seller_name Seller_Location  ... Seller_price Seller_product_wishlist\n",
              "0        GudangGrosir     DKI Jakarta  ...     Rp 6.800                     839\n",
              "1         SoundSquare     DKI Jakarta  ...    Rp 83.200                    1471\n",
              "2  Kelvin Online Shop     DKI Jakarta  ...    Rp 22.500                    2132\n",
              "3        Fast n Cheap     DKI Jakarta  ...    Rp 54.600                     654\n",
              "4        Fast n Cheap     DKI Jakarta  ...     Rp 5.400                     331\n",
              "\n",
              "[5 rows x 6 columns]"
            ]
          },
          "metadata": {},
          "execution_count": 50
        }
      ]
    },
    {
      "cell_type": "code",
      "metadata": {
        "id": "Jl62dognmwEr",
        "colab": {
          "base_uri": "https://localhost:8080/",
          "height": 428
        },
        "outputId": "27d5bdf8-a697-4b7b-e32c-cc8d7d06a5a5"
      },
      "source": [
        "%%rdf turtle\n",
        "# Data 1\n",
        "\n",
        "## Namespace\n",
        "@prefix rdfs: <http://www.w3.org/2000/01/rdf-schema#> .\n",
        "@prefix rdf: <http://www.w3.org/1999/02/22-rdf-syntax-ns#> .\n",
        "@prefix xsd: <http://www.w3.org/2001/XMLSchema#> .\n",
        "@prefix dbpedia: <https://dbpedia.org/resource/> .\n",
        "@prefix ex: <http://example.com/> .\n",
        "@prefix gr: <http://www.heppnetz.de/ontologies/goodrelations/v1#> .\n",
        "@prefix schema: <https://schema.org/> .\n",
        "\n",
        "## Class\n",
        "\n",
        "## Properties\n",
        "\n",
        "## Data 1\n",
        "ex:GudangGrosir a gr:BusinessEntity .\n",
        "dbpedia:Jakarta a gr:Location .\n",
        "ex:GudangGrosir schema:location dbpedia:Jakarta .\n",
        "\n",
        "ex:Harga a gr:UnitPriceSpecification .\n",
        "ex:Harga gr:hasCurrency \"IDR\"^^xsd:string .\n",
        "ex:Harga gr:hasCurrencyValue \"6800\"^^xsd:integer .\n",
        "\n",
        "ex:Headphone a gr:Offering .\n",
        "ex:Headphone gr:name \"TaffSTUDIO Splitter Audio Shape U 3.5mm ke Headphone & Mic - K0650\" .\n",
        "ex:Headphone gr:hasPriceSpecification ex:Harga .\n",
        "\n",
        "ex:GudangGrosir gr:offers ex:Headphone ."
      ],
      "execution_count": 51,
      "outputs": [
        {
          "output_type": "display_data",
          "data": {
            "text/plain": [
              "<graphviz.dot.Digraph at 0x7fd966f55750>"
            ],
            "image/svg+xml": "<?xml version=\"1.0\" encoding=\"UTF-8\" standalone=\"no\"?>\n<!DOCTYPE svg PUBLIC \"-//W3C//DTD SVG 1.1//EN\"\n \"http://www.w3.org/Graphics/SVG/1.1/DTD/svg11.dtd\">\n<!-- Generated by graphviz version 2.40.1 (20161225.0304)\n -->\n<!-- Title: %3 Pages: 1 -->\n<svg width=\"939pt\" height=\"305pt\"\n viewBox=\"0.00 0.00 938.74 305.00\" xmlns=\"http://www.w3.org/2000/svg\" xmlns:xlink=\"http://www.w3.org/1999/xlink\">\n<g id=\"graph0\" class=\"graph\" transform=\"scale(1 1) rotate(0) translate(4 301)\">\n<title>%3</title>\n<polygon fill=\"#ffffff\" stroke=\"transparent\" points=\"-4,4 -4,-301 934.7439,-301 934.7439,4 -4,4\"/>\n<!-- 0 -->\n<g id=\"node1\" class=\"node\">\n<title>0</title>\n<ellipse fill=\"none\" stroke=\"#000000\" cx=\"68.2439\" cy=\"-105\" rx=\"53.8905\" ry=\"18\"/>\n<text text-anchor=\"middle\" x=\"68.2439\" y=\"-101.3\" font-family=\"Times,serif\" font-size=\"14.00\" fill=\"#000000\">gr:Location</text>\n</g>\n<!-- 1 -->\n<g id=\"node2\" class=\"node\">\n<title>1</title>\n<ellipse fill=\"none\" stroke=\"#000000\" cx=\"230.2439\" cy=\"-105\" rx=\"44.393\" ry=\"18\"/>\n<text text-anchor=\"middle\" x=\"230.2439\" y=\"-101.3\" font-family=\"Times,serif\" font-size=\"14.00\" fill=\"#000000\">ex:Harga</text>\n</g>\n<!-- 2 -->\n<g id=\"node3\" class=\"node\">\n<title>2</title>\n<polygon fill=\"none\" stroke=\"#000000\" points=\"150.7439,-36 15.7439,-36 15.7439,0 150.7439,0 150.7439,-36\"/>\n<text text-anchor=\"middle\" x=\"83.2439\" y=\"-14.3\" font-family=\"Times,serif\" font-size=\"14.00\" fill=\"#000000\">&quot;6800&quot;^^xsd:integer</text>\n</g>\n<!-- 1&#45;&gt;2 -->\n<g id=\"edge1\" class=\"edge\">\n<title>1&#45;&gt;2</title>\n<path fill=\"none\" stroke=\"#000000\" d=\"M189.9209,-97.2849C158.4149,-90.5597 117.9133,-80.1562 105.2439,-69 98.3779,-62.9539 93.5793,-54.3845 90.2589,-45.9925\"/>\n<polygon fill=\"#000000\" stroke=\"#000000\" points=\"93.5277,-44.733 87.0047,-36.3843 86.8977,-46.9786 93.5277,-44.733\"/>\n<text text-anchor=\"middle\" x=\"165.7439\" y=\"-57.8\" font-family=\"Times,serif\" font-size=\"14.00\" fill=\"#000000\">gr:hasCurrencyValue</text>\n</g>\n<!-- 9 -->\n<g id=\"node10\" class=\"node\">\n<title>9</title>\n<polygon fill=\"none\" stroke=\"#000000\" points=\"291.7439,-36 168.7439,-36 168.7439,0 291.7439,0 291.7439,-36\"/>\n<text text-anchor=\"middle\" x=\"230.2439\" y=\"-14.3\" font-family=\"Times,serif\" font-size=\"14.00\" fill=\"#000000\">&quot;IDR&quot;^^xsd:string</text>\n</g>\n<!-- 1&#45;&gt;9 -->\n<g id=\"edge8\" class=\"edge\">\n<title>1&#45;&gt;9</title>\n<path fill=\"none\" stroke=\"#000000\" d=\"M230.2439,-86.9735C230.2439,-75.1918 230.2439,-59.5607 230.2439,-46.1581\"/>\n<polygon fill=\"#000000\" stroke=\"#000000\" points=\"233.744,-46.0033 230.2439,-36.0034 226.744,-46.0034 233.744,-46.0033\"/>\n<text text-anchor=\"middle\" x=\"274.2439\" y=\"-57.8\" font-family=\"Times,serif\" font-size=\"14.00\" fill=\"#000000\">gr:hasCurrency</text>\n</g>\n<!-- 10 -->\n<g id=\"node11\" class=\"node\">\n<title>10</title>\n<ellipse fill=\"none\" stroke=\"#000000\" cx=\"414.2439\" cy=\"-18\" rx=\"104.7816\" ry=\"18\"/>\n<text text-anchor=\"middle\" x=\"414.2439\" y=\"-14.3\" font-family=\"Times,serif\" font-size=\"14.00\" fill=\"#000000\">gr:UnitPriceSpecification</text>\n</g>\n<!-- 1&#45;&gt;10 -->\n<g id=\"edge4\" class=\"edge\">\n<title>1&#45;&gt;10</title>\n<path fill=\"none\" stroke=\"#000000\" d=\"M263.9117,-93.0547C281.5265,-86.4982 303.3084,-77.9048 322.2439,-69 340.5104,-60.4099 360.1538,-49.7302 376.58,-40.3666\"/>\n<polygon fill=\"#000000\" stroke=\"#000000\" points=\"378.4243,-43.3435 385.3455,-35.3217 374.9325,-37.2766 378.4243,-43.3435\"/>\n<text text-anchor=\"middle\" x=\"374.2439\" y=\"-57.8\" font-family=\"Times,serif\" font-size=\"14.00\" fill=\"#000000\">rdf:type</text>\n</g>\n<!-- 3 -->\n<g id=\"node4\" class=\"node\">\n<title>3</title>\n<ellipse fill=\"none\" stroke=\"#000000\" cx=\"391.2439\" cy=\"-105\" rx=\"52.7911\" ry=\"18\"/>\n<text text-anchor=\"middle\" x=\"391.2439\" y=\"-101.3\" font-family=\"Times,serif\" font-size=\"14.00\" fill=\"#000000\">gr:Offering</text>\n</g>\n<!-- 4 -->\n<g id=\"node5\" class=\"node\">\n<title>4</title>\n<ellipse fill=\"none\" stroke=\"#000000\" cx=\"68.2439\" cy=\"-192\" rx=\"68.4888\" ry=\"18\"/>\n<text text-anchor=\"middle\" x=\"68.2439\" y=\"-188.3\" font-family=\"Times,serif\" font-size=\"14.00\" fill=\"#000000\">dbpedia:Jakarta</text>\n</g>\n<!-- 4&#45;&gt;0 -->\n<g id=\"edge6\" class=\"edge\">\n<title>4&#45;&gt;0</title>\n<path fill=\"none\" stroke=\"#000000\" d=\"M68.2439,-173.9735C68.2439,-162.1918 68.2439,-146.5607 68.2439,-133.1581\"/>\n<polygon fill=\"#000000\" stroke=\"#000000\" points=\"71.744,-133.0033 68.2439,-123.0034 64.744,-133.0034 71.744,-133.0033\"/>\n<text text-anchor=\"middle\" x=\"91.2439\" y=\"-144.8\" font-family=\"Times,serif\" font-size=\"14.00\" fill=\"#000000\">rdf:type</text>\n</g>\n<!-- 5 -->\n<g id=\"node6\" class=\"node\">\n<title>5</title>\n<ellipse fill=\"none\" stroke=\"#000000\" cx=\"231.2439\" cy=\"-279\" rx=\"75.2868\" ry=\"18\"/>\n<text text-anchor=\"middle\" x=\"231.2439\" y=\"-275.3\" font-family=\"Times,serif\" font-size=\"14.00\" fill=\"#000000\">ex:GudangGrosir</text>\n</g>\n<!-- 5&#45;&gt;4 -->\n<g id=\"edge7\" class=\"edge\">\n<title>5&#45;&gt;4</title>\n<path fill=\"none\" stroke=\"#000000\" d=\"M184.6151,-264.6021C168.5205,-258.8354 150.6688,-251.521 135.2439,-243 121.4465,-235.378 107.3855,-225.1288 95.7307,-215.8178\"/>\n<polygon fill=\"#000000\" stroke=\"#000000\" points=\"97.664,-212.8774 87.7078,-209.2547 93.2318,-218.2955 97.664,-212.8774\"/>\n<text text-anchor=\"middle\" x=\"181.2439\" y=\"-231.8\" font-family=\"Times,serif\" font-size=\"14.00\" fill=\"#000000\">schema:location</text>\n</g>\n<!-- 7 -->\n<g id=\"node8\" class=\"node\">\n<title>7</title>\n<ellipse fill=\"none\" stroke=\"#000000\" cx=\"231.2439\" cy=\"-192\" rx=\"76.8869\" ry=\"18\"/>\n<text text-anchor=\"middle\" x=\"231.2439\" y=\"-188.3\" font-family=\"Times,serif\" font-size=\"14.00\" fill=\"#000000\">gr:BusinessEntity</text>\n</g>\n<!-- 5&#45;&gt;7 -->\n<g id=\"edge5\" class=\"edge\">\n<title>5&#45;&gt;7</title>\n<path fill=\"none\" stroke=\"#000000\" d=\"M231.2439,-260.9735C231.2439,-249.1918 231.2439,-233.5607 231.2439,-220.1581\"/>\n<polygon fill=\"#000000\" stroke=\"#000000\" points=\"234.744,-220.0033 231.2439,-210.0034 227.744,-220.0034 234.744,-220.0033\"/>\n<text text-anchor=\"middle\" x=\"254.2439\" y=\"-231.8\" font-family=\"Times,serif\" font-size=\"14.00\" fill=\"#000000\">rdf:type</text>\n</g>\n<!-- 8 -->\n<g id=\"node9\" class=\"node\">\n<title>8</title>\n<ellipse fill=\"none\" stroke=\"#000000\" cx=\"391.2439\" cy=\"-192\" rx=\"64.9885\" ry=\"18\"/>\n<text text-anchor=\"middle\" x=\"391.2439\" y=\"-188.3\" font-family=\"Times,serif\" font-size=\"14.00\" fill=\"#000000\">ex:Headphone</text>\n</g>\n<!-- 5&#45;&gt;8 -->\n<g id=\"edge10\" class=\"edge\">\n<title>5&#45;&gt;8</title>\n<path fill=\"none\" stroke=\"#000000\" d=\"M261.7153,-262.4312C287.5383,-248.3899 324.712,-228.1767 352.6183,-213.0027\"/>\n<polygon fill=\"#000000\" stroke=\"#000000\" points=\"354.5839,-215.9179 361.6972,-208.0661 351.2399,-209.7682 354.5839,-215.9179\"/>\n<text text-anchor=\"middle\" x=\"345.7439\" y=\"-231.8\" font-family=\"Times,serif\" font-size=\"14.00\" fill=\"#000000\">gr:offers</text>\n</g>\n<!-- 6 -->\n<g id=\"node7\" class=\"node\">\n<title>6</title>\n<polygon fill=\"none\" stroke=\"#000000\" points=\"930.7439,-123 461.7439,-123 461.7439,-87 930.7439,-87 930.7439,-123\"/>\n<text text-anchor=\"middle\" x=\"696.2439\" y=\"-101.3\" font-family=\"Times,serif\" font-size=\"14.00\" fill=\"#000000\">&quot;TaffSTUDIO Splitter Audio Shape U 3.5mm ke Headphone &amp; Mic &#45; K0650&quot;</text>\n</g>\n<!-- 8&#45;&gt;1 -->\n<g id=\"edge9\" class=\"edge\">\n<title>8&#45;&gt;1</title>\n<path fill=\"none\" stroke=\"#000000\" d=\"M342.0535,-180.0914C301.7518,-170.2479 251.0601,-157.6294 249.2439,-156 242.6438,-150.0787 238.3294,-141.6454 235.5118,-133.3373\"/>\n<polygon fill=\"#000000\" stroke=\"#000000\" points=\"238.8124,-132.1418 232.7644,-123.4428 232.0675,-134.0147 238.8124,-132.1418\"/>\n<text text-anchor=\"middle\" x=\"318.2439\" y=\"-144.8\" font-family=\"Times,serif\" font-size=\"14.00\" fill=\"#000000\">gr:hasPriceSpecification</text>\n</g>\n<!-- 8&#45;&gt;3 -->\n<g id=\"edge3\" class=\"edge\">\n<title>8&#45;&gt;3</title>\n<path fill=\"none\" stroke=\"#000000\" d=\"M391.2439,-173.9735C391.2439,-162.1918 391.2439,-146.5607 391.2439,-133.1581\"/>\n<polygon fill=\"#000000\" stroke=\"#000000\" points=\"394.744,-133.0033 391.2439,-123.0034 387.744,-133.0034 394.744,-133.0033\"/>\n<text text-anchor=\"middle\" x=\"414.2439\" y=\"-144.8\" font-family=\"Times,serif\" font-size=\"14.00\" fill=\"#000000\">rdf:type</text>\n</g>\n<!-- 8&#45;&gt;6 -->\n<g id=\"edge2\" class=\"edge\">\n<title>8&#45;&gt;6</title>\n<path fill=\"none\" stroke=\"#000000\" d=\"M436.5762,-179.0692C485.7547,-165.0412 564.9992,-142.437 623.0278,-125.8846\"/>\n<polygon fill=\"#000000\" stroke=\"#000000\" points=\"624.2196,-129.1843 632.876,-123.0755 622.2994,-122.4528 624.2196,-129.1843\"/>\n<text text-anchor=\"middle\" x=\"585.7439\" y=\"-144.8\" font-family=\"Times,serif\" font-size=\"14.00\" fill=\"#000000\">gr:name</text>\n</g>\n</g>\n</svg>\n"
          },
          "metadata": {}
        }
      ]
    },
    {
      "cell_type": "code",
      "metadata": {
        "id": "aS9VZjYbZrg9"
      },
      "source": [
        ""
      ],
      "execution_count": 51,
      "outputs": []
    },
    {
      "cell_type": "markdown",
      "metadata": {
        "id": "HmsRVEOZAhTg"
      },
      "source": [
        "## SHACL\n",
        "\n",
        "sebutkan aturan pada SHACL anda\n",
        "* Aturan untuk BusinessEntityShape:\n",
        "  * class: BusinessEntity\n",
        "  * properti: location dengan class Location dan offers\n",
        "* OfferingShape:\n",
        "  * class: Offering\n",
        "  * properti: hasPriceSpecification dengan class gr:UnitPriceSpecification\n",
        "* UnitPriceSpecificationShape:\n",
        "  * class: UnitPriceSpecification\n",
        "  * properti: hasCurrency dengan tipe string dan hasCurrencyValue dengan tipe integer\n",
        "\n"
      ]
    },
    {
      "cell_type": "code",
      "metadata": {
        "id": "nXZL4AMNA5uR"
      },
      "source": [
        "# ex:Computindo a gr:BusinessEntity .\n",
        "# dbpedia:Jakarta a gr:Location .\n",
        "# ex:Computindo schema:location dbpedia:Jakarta .\n",
        "\n",
        "# ex:Harga a gr:UnitPriceSpecification .\n",
        "# ex:Harga gr:hasCurrency \"IDR\"^^xsd:string .\n",
        "# ex:Harga gr:hasCurrencyValue \"459100\"^^xsd:integer .\n",
        "\n",
        "# ex:Headphone a gr:Offering .\n",
        "# ex:Headphone gr:name \"Zjiang Printer Resep Thermal Bluetooth - ZJ-5802DD\" .\n",
        "# ex:Headphone gr:hasPriceSpecification ex:Harga .\n",
        "\n",
        "# ex:Computindo gr:offers ex:Headphone .\n",
        "\n",
        "shapes_graph = \"\"\"\n",
        "@prefix sh:     <http://www.w3.org/ns/shacl#> .\n",
        "\n",
        "@prefix rdfs: <http://www.w3.org/2000/01/rdf-schema#> .\n",
        "@prefix rdf: <http://www.w3.org/1999/02/22-rdf-syntax-ns#> .\n",
        "@prefix xsd: <http://www.w3.org/2001/XMLSchema#> .\n",
        "@prefix dbpedia: <https://dbpedia.org/resource/> .\n",
        "@prefix ex: <http://example.com/> .\n",
        "@prefix gr: <http://www.heppnetz.de/ontologies/goodrelations/v1#> .\n",
        "@prefix schema: <https://schema.org/> .\n",
        "\n",
        "ex:BusinessEntityShape a sh:NodeShape ;\n",
        "    sh:targetClass gr:BusinessEntity ;\n",
        "    sh:property [\n",
        "        sh:path schema:location;\n",
        "\t      sh:targetClass gr:Location;\n",
        "    ] ;\n",
        "        sh:property [\n",
        "        sh:path gr:offers;\n",
        "\t      sh:targetClass gr:name;\n",
        "    ] .\n",
        "\n",
        "ex:OfferingShape a sh:Nodeshape ;\n",
        "    sh:targetClass gr:Offering ;\n",
        "    sh:property [\n",
        "      sh:path gr:hasPriceSpecification ;\n",
        "      sh:targetClass gr:UnitPriceSpecification ;\n",
        "  ] .\n",
        "\n",
        "ex:UnitPriceSpecificationShape a sh:Nodeshape ;\n",
        "    sh:targetClass gr:UnitPriceSpecification ;\n",
        "    sh:property [\n",
        "      sh:path gr:hasCurrency ;\n",
        "      sh:datatype xsd:string ;\n",
        "    ] ;\n",
        "    sh:property [\n",
        "      sh:path gr:hasCurrencyValue ;\n",
        "      sh:datatype xsd:integer ;\n",
        "    ] .\n",
        "\n",
        "\n",
        "\"\"\""
      ],
      "execution_count": 52,
      "outputs": []
    },
    {
      "cell_type": "markdown",
      "metadata": {
        "id": "OOh_wHq1BSmT"
      },
      "source": [
        "## Data Graph\n",
        "\n"
      ]
    },
    {
      "cell_type": "code",
      "metadata": {
        "id": "Vek0ZSFnBdj9"
      },
      "source": [
        "# dua data_graph yang seharusnya valid dan yang seharusnya tidak valid\n",
        "data_graph_valid = \"\"\"\n",
        "# Data 1\n",
        "@prefix rdfs: <http://www.w3.org/2000/01/rdf-schema#> .\n",
        "@prefix rdf: <http://www.w3.org/1999/02/22-rdf-syntax-ns#> .\n",
        "@prefix xsd: <http://www.w3.org/2001/XMLSchema#> .\n",
        "@prefix dbpedia: <https://dbpedia.org/resource/> .\n",
        "@prefix ex: <http://example.com/> .\n",
        "@prefix gr: <http://www.heppnetz.de/ontologies/goodrelations/v1#> .\n",
        "@prefix schema: <https://schema.org/> .\n",
        "\n",
        "ex:Computindo a gr:BusinessEntity .\n",
        "dbpedia:Jakarta a gr:Location .\n",
        "ex:Computindo schema:location dbpedia:Jakarta .\n",
        "\n",
        "ex:Harga a gr:UnitPriceSpecification .\n",
        "ex:Harga gr:hasCurrency \"IDR\"^^xsd:string .\n",
        "ex:Harga gr:hasCurrencyValue \"459100\"^^xsd:integer .\n",
        "\n",
        "ex:Headphone a gr:Offering .\n",
        "ex:Headphone gr:name \"Zjiang Printer Resep Thermal Bluetooth - ZJ-5802DD\" .\n",
        "ex:Headphone gr:hasPriceSpecification ex:Harga .\n",
        "\n",
        "ex:Computindo gr:offers ex:Headphone .\n",
        "\"\"\"\n",
        "\n",
        "# dua data_graph yang seharusnya valid dan yang seharusnya tidak valid\n",
        "data_graph_invalid = \"\"\"\n",
        "# Data 2\n",
        "\n",
        "@prefix rdfs: <http://www.w3.org/2000/01/rdf-schema#> .\n",
        "@prefix rdf: <http://www.w3.org/1999/02/22-rdf-syntax-ns#> .\n",
        "@prefix xsd: <http://www.w3.org/2001/XMLSchema#> .\n",
        "@prefix dbpedia: <https://dbpedia.org/resource/> .\n",
        "@prefix ex: <http://example.com/> .\n",
        "@prefix gr: <http://www.heppnetz.de/ontologies/goodrelations/v1#> .\n",
        "@prefix schema: <https://schema.org/> .\n",
        "\n",
        "ex:SoundSquare a gr:BusinessEntity .\n",
        "dbpedia:Jakarta a gr:Location .\n",
        "ex:SoundSquare schema:location dbpedia:Jakarta .\n",
        "\n",
        "# Perhatikan datatype untuk hasCurrency dan hasCurrencyValue\n",
        "ex:Harga a gr:UnitPriceSpecification .\n",
        "ex:Harga gr:hasCurrency \"USD\"^^xsd:float .\n",
        "ex:Harga gr:hasCurrencyValue \"8.2\"^^xsd:float .\n",
        "\n",
        "ex:Headphone a gr:Offering .\n",
        "ex:Headphone gr:name \"TaffSTUDIO Mikrofon Kondenser Studio dengan Shockproof Mount - BM-800\" .\n",
        "ex:Headphone gr:hasPriceSpecification ex:Harga .\n",
        "\n",
        "ex:SoundSquare gr:offers ex:Headphone .\n",
        "\"\"\""
      ],
      "execution_count": 53,
      "outputs": []
    },
    {
      "cell_type": "markdown",
      "metadata": {
        "id": "aloJHbjCOhE3"
      },
      "source": [
        "# Validasi SHACL"
      ]
    },
    {
      "cell_type": "code",
      "metadata": {
        "colab": {
          "base_uri": "https://localhost:8080/"
        },
        "id": "7OKbEHF8rrwp",
        "outputId": "eff43970-5612-4f26-8467-3b3e6b285dcc"
      },
      "source": [
        "!python -m pip install --no-input pyshacl --quiet"
      ],
      "execution_count": 54,
      "outputs": [
        {
          "output_type": "stream",
          "name": "stdout",
          "text": [
            "\u001b[31mERROR: pip's dependency resolver does not currently take into account all the packages that are installed. This behaviour is the source of the following dependency conflicts.\n",
            "sparqlslurper 0.4.1 requires rdflib~=5.0, but you have rdflib 6.0.1 which is incompatible.\n",
            "pyshexc 0.8.3 requires rdflib~=5.0, but you have rdflib 6.0.1 which is incompatible.\n",
            "pyshex 0.7.20 requires rdflib~=5.0, but you have rdflib 6.0.1 which is incompatible.\u001b[0m\n"
          ]
        }
      ]
    },
    {
      "cell_type": "code",
      "metadata": {
        "id": "Ej3INxR6Oqir",
        "colab": {
          "base_uri": "https://localhost:8080/"
        },
        "outputId": "bf474b85-cc24-4ead-91ee-38dede39135a"
      },
      "source": [
        "import pyshacl\n",
        "\n",
        "results = pyshacl.validate(\n",
        "    data_graph_valid,\n",
        "    shacl_graph=shapes_graph,\n",
        "    data_graph_format=\"ttl\",\n",
        "    shacl_graph_format=\"ttl\",\n",
        "    inference=\"rdfs\",\n",
        "    debug=True,\n",
        "    serialize_report_graph=\"ttl\",\n",
        "    )\n",
        "\n",
        "conforms, report_graph, report_text = results\n",
        "\n",
        "print(\"conforms untuk data 1: \", conforms)"
      ],
      "execution_count": 55,
      "outputs": [
        {
          "output_type": "stream",
          "name": "stdout",
          "text": [
            "conforms untuk data 1:  True\n"
          ]
        }
      ]
    },
    {
      "cell_type": "code",
      "metadata": {
        "colab": {
          "base_uri": "https://localhost:8080/"
        },
        "id": "H61W4__9vNnz",
        "outputId": "761c0d65-ef68-4308-e443-209775f635e2"
      },
      "source": [
        "results2 = pyshacl.validate(\n",
        "    data_graph_invalid,\n",
        "    shacl_graph=shapes_graph,\n",
        "    data_graph_format=\"ttl\",\n",
        "    shacl_graph_format=\"ttl\",\n",
        "    inference=\"rdfs\",\n",
        "    debug=True,\n",
        "    serialize_report_graph=\"ttl\",\n",
        "    )\n",
        "\n",
        "conforms2, report_graph2, report_text2 = results2\n",
        "\n",
        "print(\"conforms untuk data 2: \", conforms2)"
      ],
      "execution_count": 56,
      "outputs": [
        {
          "output_type": "stream",
          "name": "stderr",
          "text": [
            "Constraint Violation in DatatypeConstraintComponent (http://www.w3.org/ns/shacl#DatatypeConstraintComponent):\n",
            "\tSeverity: sh:Violation\n",
            "\tSource Shape: [ sh:datatype xsd:string ; sh:path gr:hasCurrency ]\n",
            "\tFocus Node: ex:Harga\n",
            "\tValue Node: Literal(\"USD\" = None, datatype=xsd:float)\n",
            "\tResult Path: gr:hasCurrency\n",
            "\tMessage: Value is not Literal with datatype xsd:string\n",
            "\n",
            "Constraint Violation in DatatypeConstraintComponent (http://www.w3.org/ns/shacl#DatatypeConstraintComponent):\n",
            "\tSeverity: sh:Violation\n",
            "\tSource Shape: [ sh:datatype xsd:integer ; sh:path gr:hasCurrencyValue ]\n",
            "\tFocus Node: ex:Harga\n",
            "\tValue Node: Literal(\"8.2\", datatype=xsd:float)\n",
            "\tResult Path: gr:hasCurrencyValue\n",
            "\tMessage: Value is not Literal with datatype xsd:integer\n",
            "\n"
          ]
        },
        {
          "output_type": "stream",
          "name": "stdout",
          "text": [
            "conforms untuk data 2:  False\n"
          ]
        },
        {
          "output_type": "stream",
          "name": "stderr",
          "text": [
            "/usr/local/lib/python3.7/dist-packages/rdflib/term.py:1276: UserWarning: Serializing weird numerical rdflib.term.Literal('USD', datatype=rdflib.term.URIRef('http://www.w3.org/2001/XMLSchema#float'))\n",
            "  return self._literal_n3(False, qname_callback)\n"
          ]
        }
      ]
    },
    {
      "cell_type": "markdown",
      "metadata": {
        "id": "mYVSLWksB1yT"
      },
      "source": [
        "## Daftar Pustaka:\n",
        "\n",
        "1. Rakhmawati, N. A. (2015). Semantic Web dan Linked Data. Yogyakarta, Indonesia: SiBuku.\n",
        "2. Rochim Farul Noviyan, Hasna Zakiyyah Harsari, Reyhan Venyutzky, & Nur Aini Rakhmawati. (2021). rochimfn/tekweb-tugas-pertemuan4: Release v0.1 (v0.1) [Data set]. Zenodo. https://doi.org/10.5281/zenodo.5520879\n",
        "3. Noviyan, Rochim & Zakiyyah Harsari, Hasna & Venyutzky, Reyhan & Rakhmawati, Nur. (2021). Semantic Web Vocabulary Toko Online di Jakmall. 10.13140/RG.2.2.32347.28962. \n",
        "4. Holger Knublauch and Dimitris Kontokostas. Shapes constraint language (SHACL). W3C Working Draft, https://www.w3.org/TR/2017/WD-shacl-20170202\n",
        "5. Rochim Farul Noviyan, Hasna Zakiyyah Harsari, Reyhan Venyutzky, & Nur Aini Rakhmawati. (2021). rochimfn/tekweb-tugas-pertemuan5: Release v0.1 (v0.1). Zenodo. https://doi.org/10.5281/zenodo.5551219\n",
        "\n",
        "\n",
        "\n",
        "\n",
        "\n",
        "\n"
      ]
    }
  ]
}